{
  "cells": [
    {
      "cell_type": "markdown",
      "metadata": {
        "id": "view-in-github",
        "colab_type": "text"
      },
      "source": [
        "<a href=\"https://colab.research.google.com/github/subhadrashaw/project/blob/main/HousePricePred.ipynb\" target=\"_parent\"><img src=\"https://colab.research.google.com/assets/colab-badge.svg\" alt=\"Open In Colab\"/></a>"
      ]
    },
    {
      "cell_type": "markdown",
      "source": [
        "**House Price Prediction**"
      ],
      "metadata": {
        "id": "G-tOXvU5YTmB"
      }
    },
    {
      "cell_type": "markdown",
      "source": [
        "# import libraries"
      ],
      "metadata": {
        "id": "U7azsKVvs8jy"
      }
    },
    {
      "cell_type": "code",
      "source": [
        "#import libraries\n",
        "import numpy as np\n",
        "import pandas as pd\n",
        "import matplotlib.pyplot as plt\n",
        "import seaborn as sns\n",
        "from sklearn.metrics import mean_absolute_error\n",
        "from sklearn.model_selection import train_test_split\n",
        "from sklearn import svm\n",
        "from sklearn.svm import SVC\n",
        "from sklearn.metrics import mean_absolute_percentage_error\n",
        "from sklearn.metrics import r2_score\n",
        "from sklearn.ensemble import RandomForestRegressor\n",
        "from sklearn.linear_model import LinearRegression \n",
        "from sklearn.linear_model import SGDClassifier\n",
        "from sklearn.preprocessing import LabelEncoder\n",
        "from sklearn.linear_model import LinearRegression # OLS algorithm\n",
        "from sklearn.linear_model import Ridge # Ridge algorithm\n",
        "from sklearn.linear_model import Lasso # Lasso algorithm\n",
        "from sklearn.linear_model import BayesianRidge # Bayesian algorithm\n",
        "from sklearn.linear_model import ElasticNet # ElasticNet algorithm"
      ],
      "metadata": {
        "id": "R_18EUudeccE"
      },
      "execution_count": 34,
      "outputs": []
    },
    {
      "cell_type": "markdown",
      "source": [
        "# Read xlsx file into data frame"
      ],
      "metadata": {
        "id": "8tuP3yVytD4R"
      }
    },
    {
      "cell_type": "code",
      "source": [
        "dataset = pd.read_excel(\"DS - Assignment Part 1 data set.xlsx\")\n",
        " \n",
        "# Printing first 5 records of the dataset\n",
        "print(dataset.head(5))"
      ],
      "metadata": {
        "colab": {
          "base_uri": "https://localhost:8080/"
        },
        "id": "qcA5-zpiej1s",
        "outputId": "560405fc-5349-4c2d-9304-11fbaa2a0c49"
      },
      "execution_count": 3,
      "outputs": [
        {
          "output_type": "stream",
          "name": "stdout",
          "text": [
            "   Transaction date  House Age  Distance from nearest Metro station (km)  \\\n",
            "0       2012.916667       32.0                                  84.87882   \n",
            "1       2012.916667       19.5                                 306.59470   \n",
            "2       2013.583333       13.3                                 561.98450   \n",
            "3       2013.500000       13.3                                 561.98450   \n",
            "4       2012.833333        5.0                                 390.56840   \n",
            "\n",
            "   Number of convenience stores  latitude  longitude  Number of bedrooms  \\\n",
            "0                            10  24.98298  121.54024                   1   \n",
            "1                             9  24.98034  121.53951                   2   \n",
            "2                             5  24.98746  121.54391                   3   \n",
            "3                             5  24.98746  121.54391                   2   \n",
            "4                             5  24.97937  121.54245                   1   \n",
            "\n",
            "   House size (sqft)  House price of unit area  \n",
            "0                575                      37.9  \n",
            "1               1240                      42.2  \n",
            "2               1060                      47.3  \n",
            "3                875                      54.8  \n",
            "4                491                      43.1  \n"
          ]
        }
      ]
    },
    {
      "cell_type": "code",
      "source": [
        "dataset.shape"
      ],
      "metadata": {
        "colab": {
          "base_uri": "https://localhost:8080/"
        },
        "id": "JQpNebGQe0jG",
        "outputId": "4e981dbb-95f2-48e2-af31-f147680fe9ba"
      },
      "execution_count": 7,
      "outputs": [
        {
          "output_type": "execute_result",
          "data": {
            "text/plain": [
              "(414, 9)"
            ]
          },
          "metadata": {},
          "execution_count": 7
        }
      ]
    },
    {
      "cell_type": "code",
      "source": [
        "dataset.describe"
      ],
      "metadata": {
        "colab": {
          "base_uri": "https://localhost:8080/"
        },
        "id": "N7rWqjFkWizZ",
        "outputId": "d2f45df0-5c88-480a-ff2d-7f22b7b367d3"
      },
      "execution_count": null,
      "outputs": [
        {
          "output_type": "execute_result",
          "data": {
            "text/plain": [
              "<bound method NDFrame.describe of      Transaction date  House Age  Distance from nearest Metro station (km)  \\\n",
              "0         2012.916667       32.0                                  84.87882   \n",
              "1         2012.916667       19.5                                 306.59470   \n",
              "2         2013.583333       13.3                                 561.98450   \n",
              "3         2013.500000       13.3                                 561.98450   \n",
              "4         2012.833333        5.0                                 390.56840   \n",
              "..                ...        ...                                       ...   \n",
              "409       2013.000000       13.7                                4082.01500   \n",
              "410       2012.666667        5.6                                  90.45606   \n",
              "411       2013.250000       18.8                                 390.96960   \n",
              "412       2013.000000        8.1                                 104.81010   \n",
              "413       2013.500000        6.5                                  90.45606   \n",
              "\n",
              "     Number of convenience stores  latitude  longitude  Number of bedrooms  \\\n",
              "0                              10  24.98298  121.54024                   1   \n",
              "1                               9  24.98034  121.53951                   2   \n",
              "2                               5  24.98746  121.54391                   3   \n",
              "3                               5  24.98746  121.54391                   2   \n",
              "4                               5  24.97937  121.54245                   1   \n",
              "..                            ...       ...        ...                 ...   \n",
              "409                             0  24.94155  121.50381                   3   \n",
              "410                             9  24.97433  121.54310                   2   \n",
              "411                             7  24.97923  121.53986                   1   \n",
              "412                             5  24.96674  121.54067                   1   \n",
              "413                             9  24.97433  121.54310                   2   \n",
              "\n",
              "     House size (sqft)  House price of unit area  \n",
              "0                  575                      37.9  \n",
              "1                 1240                      42.2  \n",
              "2                 1060                      47.3  \n",
              "3                  875                      54.8  \n",
              "4                  491                      43.1  \n",
              "..                 ...                       ...  \n",
              "409                803                      15.4  \n",
              "410               1278                      50.0  \n",
              "411                503                      40.6  \n",
              "412                597                      52.5  \n",
              "413               1097                      63.9  \n",
              "\n",
              "[414 rows x 9 columns]>"
            ]
          },
          "metadata": {},
          "execution_count": 8
        }
      ]
    },
    {
      "cell_type": "code",
      "source": [
        "obj = (dataset.dtypes == 'object')\n",
        "object_cols = list(obj[obj].index)\n",
        "print(\"Categorical variables:\",len(object_cols))\n",
        " \n",
        "int_ = (dataset.dtypes == 'int')\n",
        "num_cols = list(int_[int_].index)\n",
        "print(\"Integer variables:\",len(num_cols))\n",
        " \n",
        "fl = (dataset.dtypes == 'float')\n",
        "fl_cols = list(fl[fl].index)\n",
        "print(\"Float variables:\",len(fl_cols))"
      ],
      "metadata": {
        "colab": {
          "base_uri": "https://localhost:8080/"
        },
        "id": "UwAzE91AfDiB",
        "outputId": "238f08c8-ee46-4c4e-ef03-345e788efac1"
      },
      "execution_count": null,
      "outputs": [
        {
          "output_type": "stream",
          "name": "stdout",
          "text": [
            "Categorical variables: 0\n",
            "Integer variables: 3\n",
            "Float variables: 6\n"
          ]
        }
      ]
    },
    {
      "cell_type": "markdown",
      "source": [
        "# **EDA**"
      ],
      "metadata": {
        "id": "ysGxRQ7sktJ7"
      }
    },
    {
      "cell_type": "code",
      "source": [
        "!pip install sweetviz"
      ],
      "metadata": {
        "colab": {
          "base_uri": "https://localhost:8080/"
        },
        "id": "Ve08T3t6huBy",
        "outputId": "a72a2997-df0c-4393-84d9-51f25551b053"
      },
      "execution_count": 8,
      "outputs": [
        {
          "output_type": "stream",
          "name": "stdout",
          "text": [
            "Looking in indexes: https://pypi.org/simple, https://us-python.pkg.dev/colab-wheels/public/simple/\n",
            "Collecting sweetviz\n",
            "  Downloading sweetviz-2.1.4-py3-none-any.whl (15.1 MB)\n",
            "\u001b[K     |████████████████████████████████| 15.1 MB 4.9 MB/s \n",
            "\u001b[?25hRequirement already satisfied: importlib-resources>=1.2.0 in /usr/local/lib/python3.7/dist-packages (from sweetviz) (5.10.0)\n",
            "Requirement already satisfied: numpy>=1.16.0 in /usr/local/lib/python3.7/dist-packages (from sweetviz) (1.21.6)\n",
            "Requirement already satisfied: scipy>=1.3.2 in /usr/local/lib/python3.7/dist-packages (from sweetviz) (1.7.3)\n",
            "Requirement already satisfied: tqdm>=4.43.0 in /usr/local/lib/python3.7/dist-packages (from sweetviz) (4.64.1)\n",
            "Requirement already satisfied: matplotlib>=3.1.3 in /usr/local/lib/python3.7/dist-packages (from sweetviz) (3.2.2)\n",
            "Requirement already satisfied: pandas!=1.0.0,!=1.0.1,!=1.0.2,>=0.25.3 in /usr/local/lib/python3.7/dist-packages (from sweetviz) (1.3.5)\n",
            "Requirement already satisfied: jinja2>=2.11.1 in /usr/local/lib/python3.7/dist-packages (from sweetviz) (2.11.3)\n",
            "Requirement already satisfied: zipp>=3.1.0 in /usr/local/lib/python3.7/dist-packages (from importlib-resources>=1.2.0->sweetviz) (3.10.0)\n",
            "Requirement already satisfied: MarkupSafe>=0.23 in /usr/local/lib/python3.7/dist-packages (from jinja2>=2.11.1->sweetviz) (2.0.1)\n",
            "Requirement already satisfied: kiwisolver>=1.0.1 in /usr/local/lib/python3.7/dist-packages (from matplotlib>=3.1.3->sweetviz) (1.4.4)\n",
            "Requirement already satisfied: python-dateutil>=2.1 in /usr/local/lib/python3.7/dist-packages (from matplotlib>=3.1.3->sweetviz) (2.8.2)\n",
            "Requirement already satisfied: pyparsing!=2.0.4,!=2.1.2,!=2.1.6,>=2.0.1 in /usr/local/lib/python3.7/dist-packages (from matplotlib>=3.1.3->sweetviz) (3.0.9)\n",
            "Requirement already satisfied: cycler>=0.10 in /usr/local/lib/python3.7/dist-packages (from matplotlib>=3.1.3->sweetviz) (0.11.0)\n",
            "Requirement already satisfied: typing-extensions in /usr/local/lib/python3.7/dist-packages (from kiwisolver>=1.0.1->matplotlib>=3.1.3->sweetviz) (4.1.1)\n",
            "Requirement already satisfied: pytz>=2017.3 in /usr/local/lib/python3.7/dist-packages (from pandas!=1.0.0,!=1.0.1,!=1.0.2,>=0.25.3->sweetviz) (2022.6)\n",
            "Requirement already satisfied: six>=1.5 in /usr/local/lib/python3.7/dist-packages (from python-dateutil>=2.1->matplotlib>=3.1.3->sweetviz) (1.15.0)\n",
            "Installing collected packages: sweetviz\n",
            "Successfully installed sweetviz-2.1.4\n"
          ]
        }
      ]
    },
    {
      "cell_type": "code",
      "source": [
        "import sweetviz as sv"
      ],
      "metadata": {
        "id": "y65Pnysdh190"
      },
      "execution_count": 9,
      "outputs": []
    },
    {
      "cell_type": "code",
      "source": [
        "report = sv.analyze(dataset)\n",
        "report.show_html(\"./report.html\")"
      ],
      "metadata": {
        "colab": {
          "base_uri": "https://localhost:8080/",
          "height": 66,
          "referenced_widgets": [
            "8c9b103283af416586c204538db90310",
            "3eafcdc73c17442cb0ce6519e2aaa625",
            "5a9d0d5b20254084914c053f3e0d53c7",
            "57fc51e651294be1ae1dbe1dd99d65bb",
            "527aa39f918c459fa022b9e4bb657534",
            "beb4539a428c44a39a1769d8c290c1b3",
            "66dc619236204540851b63771bf41193",
            "826ca2958ae245d9aa6111d05a288962",
            "a55a59bc7c5d4ee08e69245c734e7519",
            "4977c0d62ced4719aa040925d5552949",
            "0c7de71264de4eb391672b81a72588fa"
          ]
        },
        "id": "CdINn1u0h575",
        "outputId": "782455b6-fa8c-4832-f825-7255cc8c39a3"
      },
      "execution_count": 10,
      "outputs": [
        {
          "output_type": "display_data",
          "data": {
            "text/plain": [
              "                                             |          | [  0%]   00:00 -> (? left)"
            ],
            "application/vnd.jupyter.widget-view+json": {
              "version_major": 2,
              "version_minor": 0,
              "model_id": "8c9b103283af416586c204538db90310"
            }
          },
          "metadata": {}
        },
        {
          "output_type": "stream",
          "name": "stdout",
          "text": [
            "Report ./report.html was generated! NOTEBOOK/COLAB USERS: the web browser MAY not pop up, regardless, the report IS saved in your notebook/colab files.\n"
          ]
        }
      ]
    },
    {
      "cell_type": "code",
      "source": [
        "plt.figure(figsize=(12, 6))\n",
        "sns.heatmap(dataset.corr(),\n",
        "            cmap = 'BrBG',\n",
        "            fmt = '.2f',\n",
        "            linewidths = 2,\n",
        "            annot = True)"
      ],
      "metadata": {
        "colab": {
          "base_uri": "https://localhost:8080/",
          "height": 725
        },
        "id": "WypudP4EfTwX",
        "outputId": "8790cb00-f42d-471a-f04a-86693bf33e33"
      },
      "execution_count": 11,
      "outputs": [
        {
          "output_type": "execute_result",
          "data": {
            "text/plain": [
              "<matplotlib.axes._subplots.AxesSubplot at 0x7f1ef325dc50>"
            ]
          },
          "metadata": {},
          "execution_count": 11
        },
        {
          "output_type": "display_data",
          "data": {
            "text/plain": [
              "<Figure size 1200x600 with 2 Axes>"
            ],
            "image/png": "[encoded data removed]"
          },
          "metadata": {}
        }
      ]
    },
    {
      "cell_type": "markdown",
      "source": [
        "# **Data Pre-Processing**"
      ],
      "metadata": {
        "id": "mJed48xFj6w9"
      }
    },
    {
      "cell_type": "code",
      "source": [
        "# Feature Engineering\n",
        "from geopy.geocoders import Nominatim\n",
        "geolocator = Nominatim(user_agent = 'geoapiExcercises')"
      ],
      "metadata": {
        "id": "lG4CLCtEl3a7"
      },
      "execution_count": 12,
      "outputs": []
    },
    {
      "cell_type": "code",
      "source": [
        "loc = geolocator.reverse(\"24.84\" +\",\" + \"121.54\").raw['address']\n",
        "print(loc)"
      ],
      "metadata": {
        "colab": {
          "base_uri": "https://localhost:8080/"
        },
        "id": "9Q-3QSea1kDQ",
        "outputId": "7dd689f9-49f5-485e-8a00-9c9c21566f08"
      },
      "execution_count": 13,
      "outputs": [
        {
          "output_type": "stream",
          "name": "stdout",
          "text": [
            "{'tourism': '信賢步道瀑布群', 'road': '信賢步道', 'neighbourhood': '信賢里', 'suburb': '烏來區', 'village': '哪哮 Lahaw', 'city': '新北市', 'ISO3166-2-lvl4': 'TW-NWT', 'postcode': '23341', 'country': '臺灣', 'country_code': 'tw'}\n"
          ]
        }
      ]
    },
    {
      "cell_type": "code",
      "source": [
        "loc_update = {\"road\":[]}\n",
        "\n",
        "#def loc(cord):\n",
        "for i,cord in enumerate(dataset.iloc[:,4:6].values):\n",
        "  Lat = str(cord[0])\n",
        "  Long = str(cord[1])\n",
        "\n",
        "  loc = geolocator.reverse(Lat +\",\" + Long).raw['address'] #raw returns dictionary\n",
        "  #print(loc)\n",
        "  #if values are empty replace by empty string\n",
        "\n",
        "  if loc.get('road') is None:\n",
        "    loc['road'] = None\n",
        "\n",
        "  loc_update['road'].append(loc['road'])\n",
        "  print(loc_update['road'])"
      ],
      "metadata": {
        "id": "m_vwOf8uomGa"
      },
      "execution_count": null,
      "outputs": []
    },
    {
      "cell_type": "code",
      "source": [
        "loc = pd.DataFrame(loc_update)\n",
        "loc.info() "
      ],
      "metadata": {
        "colab": {
          "base_uri": "https://localhost:8080/"
        },
        "id": "9dRmRRG_2cTK",
        "outputId": "74088268-933b-4157-c213-34461fd57884"
      },
      "execution_count": 15,
      "outputs": [
        {
          "output_type": "stream",
          "name": "stdout",
          "text": [
            "<class 'pandas.core.frame.DataFrame'>\n",
            "RangeIndex: 414 entries, 0 to 413\n",
            "Data columns (total 1 columns):\n",
            " #   Column  Non-Null Count  Dtype \n",
            "---  ------  --------------  ----- \n",
            " 0   road    401 non-null    object\n",
            "dtypes: object(1)\n",
            "memory usage: 3.4+ KB\n"
          ]
        }
      ]
    },
    {
      "cell_type": "code",
      "source": [
        "# add new feature to dataset\n",
        "for i in loc_update.keys():\n",
        "  dataset[i] = loc_update[i]\n",
        "\n",
        "#dataset = dataset.sample(axis = 0) \n",
        "#dataset(10)"
      ],
      "metadata": {
        "id": "D_2O3egJwOD2"
      },
      "execution_count": 16,
      "outputs": []
    },
    {
      "cell_type": "code",
      "source": [
        "dataset.head(10)"
      ],
      "metadata": {
        "id": "rYs_cjjX8GNa",
        "colab": {
          "base_uri": "https://localhost:8080/",
          "height": 476
        },
        "outputId": "a769ba8a-3648-4ac9-e81e-5c2c06fed639"
      },
      "execution_count": 17,
      "outputs": [
        {
          "output_type": "execute_result",
          "data": {
            "text/plain": [
              "   Transaction date  House Age  Distance from nearest Metro station (km)  \\\n",
              "0       2012.916667       32.0                                  84.87882   \n",
              "1       2012.916667       19.5                                 306.59470   \n",
              "2       2013.583333       13.3                                 561.98450   \n",
              "3       2013.500000       13.3                                 561.98450   \n",
              "4       2012.833333        5.0                                 390.56840   \n",
              "5       2012.666667        7.1                                2175.03000   \n",
              "6       2012.666667       34.5                                 623.47310   \n",
              "7       2013.416667       20.3                                 287.60250   \n",
              "8       2013.500000       31.7                                5512.03800   \n",
              "9       2013.416667       17.9                                1783.18000   \n",
              "\n",
              "   Number of convenience stores  latitude  longitude  Number of bedrooms  \\\n",
              "0                            10  24.98298  121.54024                   1   \n",
              "1                             9  24.98034  121.53951                   2   \n",
              "2                             5  24.98746  121.54391                   3   \n",
              "3                             5  24.98746  121.54391                   2   \n",
              "4                             5  24.97937  121.54245                   1   \n",
              "5                             3  24.96305  121.51254                   3   \n",
              "6                             7  24.97933  121.53642                   3   \n",
              "7                             6  24.98042  121.54228                   3   \n",
              "8                             1  24.95095  121.48458                   1   \n",
              "9                             3  24.96731  121.51486                   2   \n",
              "\n",
              "   House size (sqft)  House price of unit area        road  \n",
              "0                575                      37.9         民權路  \n",
              "1               1240                      42.2         大豐路  \n",
              "2               1060                      47.3   景美溪左岸自行車道  \n",
              "3                875                      54.8   景美溪左岸自行車道  \n",
              "4                491                      43.1       北新路三段  \n",
              "5                828                      32.1       安康路二段  \n",
              "6               1115                      40.3  二十張路129巷1弄  \n",
              "7               1316                      46.7       北新路三段  \n",
              "8                588                      18.8        None  \n",
              "9               1075                      22.1         安興路  "
            ],
            "text/html": [
              "\n",
              "  <div id=\"df-640452e4-a90d-413e-b7e1-e84e24230256\">\n",
              "    <div class=\"colab-df-container\">\n",
              "      <div>\n",
              "<style scoped>\n",
              "    .dataframe tbody tr th:only-of-type {\n",
              "        vertical-align: middle;\n",
              "    }\n",
              "\n",
              "    .dataframe tbody tr th {\n",
              "        vertical-align: top;\n",
              "    }\n",
              "\n",
              "    .dataframe thead th {\n",
              "        text-align: right;\n",
              "    }\n",
              "</style>\n",
              "<table border=\"1\" class=\"dataframe\">\n",
              "  <thead>\n",
              "    <tr style=\"text-align: right;\">\n",
              "      <th></th>\n",
              "      <th>Transaction date</th>\n",
              "      <th>House Age</th>\n",
              "      <th>Distance from nearest Metro station (km)</th>\n",
              "      <th>Number of convenience stores</th>\n",
              "      <th>latitude</th>\n",
              "      <th>longitude</th>\n",
              "      <th>Number of bedrooms</th>\n",
              "      <th>House size (sqft)</th>\n",
              "      <th>House price of unit area</th>\n",
              "      <th>road</th>\n",
              "    </tr>\n",
              "  </thead>\n",
              "  <tbody>\n",
              "    <tr>\n",
              "      <th>0</th>\n",
              "      <td>2012.916667</td>\n",
              "      <td>32.0</td>\n",
              "      <td>84.87882</td>\n",
              "      <td>10</td>\n",
              "      <td>24.98298</td>\n",
              "      <td>121.54024</td>\n",
              "      <td>1</td>\n",
              "      <td>575</td>\n",
              "      <td>37.9</td>\n",
              "      <td>民權路</td>\n",
              "    </tr>\n",
              "    <tr>\n",
              "      <th>1</th>\n",
              "      <td>2012.916667</td>\n",
              "      <td>19.5</td>\n",
              "      <td>306.59470</td>\n",
              "      <td>9</td>\n",
              "      <td>24.98034</td>\n",
              "      <td>121.53951</td>\n",
              "      <td>2</td>\n",
              "      <td>1240</td>\n",
              "      <td>42.2</td>\n",
              "      <td>大豐路</td>\n",
              "    </tr>\n",
              "    <tr>\n",
              "      <th>2</th>\n",
              "      <td>2013.583333</td>\n",
              "      <td>13.3</td>\n",
              "      <td>561.98450</td>\n",
              "      <td>5</td>\n",
              "      <td>24.98746</td>\n",
              "      <td>121.54391</td>\n",
              "      <td>3</td>\n",
              "      <td>1060</td>\n",
              "      <td>47.3</td>\n",
              "      <td>景美溪左岸自行車道</td>\n",
              "    </tr>\n",
              "    <tr>\n",
              "      <th>3</th>\n",
              "      <td>2013.500000</td>\n",
              "      <td>13.3</td>\n",
              "      <td>561.98450</td>\n",
              "      <td>5</td>\n",
              "      <td>24.98746</td>\n",
              "      <td>121.54391</td>\n",
              "      <td>2</td>\n",
              "      <td>875</td>\n",
              "      <td>54.8</td>\n",
              "      <td>景美溪左岸自行車道</td>\n",
              "    </tr>\n",
              "    <tr>\n",
              "      <th>4</th>\n",
              "      <td>2012.833333</td>\n",
              "      <td>5.0</td>\n",
              "      <td>390.56840</td>\n",
              "      <td>5</td>\n",
              "      <td>24.97937</td>\n",
              "      <td>121.54245</td>\n",
              "      <td>1</td>\n",
              "      <td>491</td>\n",
              "      <td>43.1</td>\n",
              "      <td>北新路三段</td>\n",
              "    </tr>\n",
              "    <tr>\n",
              "      <th>5</th>\n",
              "      <td>2012.666667</td>\n",
              "      <td>7.1</td>\n",
              "      <td>2175.03000</td>\n",
              "      <td>3</td>\n",
              "      <td>24.96305</td>\n",
              "      <td>121.51254</td>\n",
              "      <td>3</td>\n",
              "      <td>828</td>\n",
              "      <td>32.1</td>\n",
              "      <td>安康路二段</td>\n",
              "    </tr>\n",
              "    <tr>\n",
              "      <th>6</th>\n",
              "      <td>2012.666667</td>\n",
              "      <td>34.5</td>\n",
              "      <td>623.47310</td>\n",
              "      <td>7</td>\n",
              "      <td>24.97933</td>\n",
              "      <td>121.53642</td>\n",
              "      <td>3</td>\n",
              "      <td>1115</td>\n",
              "      <td>40.3</td>\n",
              "      <td>二十張路129巷1弄</td>\n",
              "    </tr>\n",
              "    <tr>\n",
              "      <th>7</th>\n",
              "      <td>2013.416667</td>\n",
              "      <td>20.3</td>\n",
              "      <td>287.60250</td>\n",
              "      <td>6</td>\n",
              "      <td>24.98042</td>\n",
              "      <td>121.54228</td>\n",
              "      <td>3</td>\n",
              "      <td>1316</td>\n",
              "      <td>46.7</td>\n",
              "      <td>北新路三段</td>\n",
              "    </tr>\n",
              "    <tr>\n",
              "      <th>8</th>\n",
              "      <td>2013.500000</td>\n",
              "      <td>31.7</td>\n",
              "      <td>5512.03800</td>\n",
              "      <td>1</td>\n",
              "      <td>24.95095</td>\n",
              "      <td>121.48458</td>\n",
              "      <td>1</td>\n",
              "      <td>588</td>\n",
              "      <td>18.8</td>\n",
              "      <td>None</td>\n",
              "    </tr>\n",
              "    <tr>\n",
              "      <th>9</th>\n",
              "      <td>2013.416667</td>\n",
              "      <td>17.9</td>\n",
              "      <td>1783.18000</td>\n",
              "      <td>3</td>\n",
              "      <td>24.96731</td>\n",
              "      <td>121.51486</td>\n",
              "      <td>2</td>\n",
              "      <td>1075</td>\n",
              "      <td>22.1</td>\n",
              "      <td>安興路</td>\n",
              "    </tr>\n",
              "  </tbody>\n",
              "</table>\n",
              "</div>\n",
              "      <button class=\"colab-df-convert\" onclick=\"convertToInteractive('df-640452e4-a90d-413e-b7e1-e84e24230256')\"\n",
              "              title=\"Convert this dataframe to an interactive table.\"\n",
              "              style=\"display:none;\">\n",
              "        \n",
              "  <svg xmlns=\"http://www.w3.org/2000/svg\" height=\"24px\"viewBox=\"0 0 24 24\"\n",
              "       width=\"24px\">\n",
              "    <path d=\"M0 0h24v24H0V0z\" fill=\"none\"/>\n",
              "    <path d=\"M18.56 5.44l.94 2.06.94-2.06 2.06-.94-2.06-.94-.94-2.06-.94 2.06-2.06.94zm-11 1L8.5 8.5l.94-2.06 2.06-.94-2.06-.94L8.5 2.5l-.94 2.06-2.06.94zm10 10l.94 2.06.94-2.06 2.06-.94-2.06-.94-.94-2.06-.94 2.06-2.06.94z\"/><path d=\"M17.41 7.96l-1.37-1.37c-.4-.4-.92-.59-1.43-.59-.52 0-1.04.2-1.43.59L10.3 9.45l-7.72 7.72c-.78.78-.78 2.05 0 2.83L4 21.41c.39.39.9.59 1.41.59.51 0 1.02-.2 1.41-.59l7.78-7.78 2.81-2.81c.8-.78.8-2.07 0-2.86zM5.41 20L4 18.59l7.72-7.72 1.47 1.35L5.41 20z\"/>\n",
              "  </svg>\n",
              "      </button>\n",
              "      \n",
              "  <style>\n",
              "    .colab-df-container {\n",
              "      display:flex;\n",
              "      flex-wrap:wrap;\n",
              "      gap: 12px;\n",
              "    }\n",
              "\n",
              "    .colab-df-convert {\n",
              "      background-color: #E8F0FE;\n",
              "      border: none;\n",
              "      border-radius: 50%;\n",
              "      cursor: pointer;\n",
              "      display: none;\n",
              "      fill: #1967D2;\n",
              "      height: 32px;\n",
              "      padding: 0 0 0 0;\n",
              "      width: 32px;\n",
              "    }\n",
              "\n",
              "    .colab-df-convert:hover {\n",
              "      background-color: #E2EBFA;\n",
              "      box-shadow: 0px 1px 2px rgba(60, 64, 67, 0.3), 0px 1px 3px 1px rgba(60, 64, 67, 0.15);\n",
              "      fill: #174EA6;\n",
              "    }\n",
              "\n",
              "    [theme=dark] .colab-df-convert {\n",
              "      background-color: #3B4455;\n",
              "      fill: #D2E3FC;\n",
              "    }\n",
              "\n",
              "    [theme=dark] .colab-df-convert:hover {\n",
              "      background-color: #434B5C;\n",
              "      box-shadow: 0px 1px 3px 1px rgba(0, 0, 0, 0.15);\n",
              "      filter: drop-shadow(0px 1px 2px rgba(0, 0, 0, 0.3));\n",
              "      fill: #FFFFFF;\n",
              "    }\n",
              "  </style>\n",
              "\n",
              "      <script>\n",
              "        const buttonEl =\n",
              "          document.querySelector('#df-640452e4-a90d-413e-b7e1-e84e24230256 button.colab-df-convert');\n",
              "        buttonEl.style.display =\n",
              "          google.colab.kernel.accessAllowed ? 'block' : 'none';\n",
              "\n",
              "        async function convertToInteractive(key) {\n",
              "          const element = document.querySelector('#df-640452e4-a90d-413e-b7e1-e84e24230256');\n",
              "          const dataTable =\n",
              "            await google.colab.kernel.invokeFunction('convertToInteractive',\n",
              "                                                     [key], {});\n",
              "          if (!dataTable) return;\n",
              "\n",
              "          const docLinkHtml = 'Like what you see? Visit the ' +\n",
              "            '<a target=\"_blank\" href=https://colab.research.google.com/notebooks/data_table.ipynb>data table notebook</a>'\n",
              "            + ' to learn more about interactive tables.';\n",
              "          element.innerHTML = '';\n",
              "          dataTable['output_type'] = 'display_data';\n",
              "          await google.colab.output.renderOutput(dataTable, element);\n",
              "          const docLink = document.createElement('div');\n",
              "          docLink.innerHTML = docLinkHtml;\n",
              "          element.appendChild(docLink);\n",
              "        }\n",
              "      </script>\n",
              "    </div>\n",
              "  </div>\n",
              "  "
            ]
          },
          "metadata": {},
          "execution_count": 17
        }
      ]
    },
    {
      "cell_type": "code",
      "source": [
        "# drop latitudes and longitudes\n",
        "dataset = dataset.drop(['latitude' , 'longitude'], axis=1)"
      ],
      "metadata": {
        "id": "zrO_t_l--I__"
      },
      "execution_count": 18,
      "outputs": []
    },
    {
      "cell_type": "code",
      "source": [
        "dataset.head(10)"
      ],
      "metadata": {
        "id": "9BWJ-LgI-cbC",
        "colab": {
          "base_uri": "https://localhost:8080/",
          "height": 476
        },
        "outputId": "53dd1b59-c765-4736-edcd-cf6a283d1e02"
      },
      "execution_count": 19,
      "outputs": [
        {
          "output_type": "execute_result",
          "data": {
            "text/plain": [
              "   Transaction date  House Age  Distance from nearest Metro station (km)  \\\n",
              "0       2012.916667       32.0                                  84.87882   \n",
              "1       2012.916667       19.5                                 306.59470   \n",
              "2       2013.583333       13.3                                 561.98450   \n",
              "3       2013.500000       13.3                                 561.98450   \n",
              "4       2012.833333        5.0                                 390.56840   \n",
              "5       2012.666667        7.1                                2175.03000   \n",
              "6       2012.666667       34.5                                 623.47310   \n",
              "7       2013.416667       20.3                                 287.60250   \n",
              "8       2013.500000       31.7                                5512.03800   \n",
              "9       2013.416667       17.9                                1783.18000   \n",
              "\n",
              "   Number of convenience stores  Number of bedrooms  House size (sqft)  \\\n",
              "0                            10                   1                575   \n",
              "1                             9                   2               1240   \n",
              "2                             5                   3               1060   \n",
              "3                             5                   2                875   \n",
              "4                             5                   1                491   \n",
              "5                             3                   3                828   \n",
              "6                             7                   3               1115   \n",
              "7                             6                   3               1316   \n",
              "8                             1                   1                588   \n",
              "9                             3                   2               1075   \n",
              "\n",
              "   House price of unit area        road  \n",
              "0                      37.9         民權路  \n",
              "1                      42.2         大豐路  \n",
              "2                      47.3   景美溪左岸自行車道  \n",
              "3                      54.8   景美溪左岸自行車道  \n",
              "4                      43.1       北新路三段  \n",
              "5                      32.1       安康路二段  \n",
              "6                      40.3  二十張路129巷1弄  \n",
              "7                      46.7       北新路三段  \n",
              "8                      18.8        None  \n",
              "9                      22.1         安興路  "
            ],
            "text/html": [
              "\n",
              "  <div id=\"df-cfe44e92-3a1d-494d-958f-547582768b64\">\n",
              "    <div class=\"colab-df-container\">\n",
              "      <div>\n",
              "<style scoped>\n",
              "    .dataframe tbody tr th:only-of-type {\n",
              "        vertical-align: middle;\n",
              "    }\n",
              "\n",
              "    .dataframe tbody tr th {\n",
              "        vertical-align: top;\n",
              "    }\n",
              "\n",
              "    .dataframe thead th {\n",
              "        text-align: right;\n",
              "    }\n",
              "</style>\n",
              "<table border=\"1\" class=\"dataframe\">\n",
              "  <thead>\n",
              "    <tr style=\"text-align: right;\">\n",
              "      <th></th>\n",
              "      <th>Transaction date</th>\n",
              "      <th>House Age</th>\n",
              "      <th>Distance from nearest Metro station (km)</th>\n",
              "      <th>Number of convenience stores</th>\n",
              "      <th>Number of bedrooms</th>\n",
              "      <th>House size (sqft)</th>\n",
              "      <th>House price of unit area</th>\n",
              "      <th>road</th>\n",
              "    </tr>\n",
              "  </thead>\n",
              "  <tbody>\n",
              "    <tr>\n",
              "      <th>0</th>\n",
              "      <td>2012.916667</td>\n",
              "      <td>32.0</td>\n",
              "      <td>84.87882</td>\n",
              "      <td>10</td>\n",
              "      <td>1</td>\n",
              "      <td>575</td>\n",
              "      <td>37.9</td>\n",
              "      <td>民權路</td>\n",
              "    </tr>\n",
              "    <tr>\n",
              "      <th>1</th>\n",
              "      <td>2012.916667</td>\n",
              "      <td>19.5</td>\n",
              "      <td>306.59470</td>\n",
              "      <td>9</td>\n",
              "      <td>2</td>\n",
              "      <td>1240</td>\n",
              "      <td>42.2</td>\n",
              "      <td>大豐路</td>\n",
              "    </tr>\n",
              "    <tr>\n",
              "      <th>2</th>\n",
              "      <td>2013.583333</td>\n",
              "      <td>13.3</td>\n",
              "      <td>561.98450</td>\n",
              "      <td>5</td>\n",
              "      <td>3</td>\n",
              "      <td>1060</td>\n",
              "      <td>47.3</td>\n",
              "      <td>景美溪左岸自行車道</td>\n",
              "    </tr>\n",
              "    <tr>\n",
              "      <th>3</th>\n",
              "      <td>2013.500000</td>\n",
              "      <td>13.3</td>\n",
              "      <td>561.98450</td>\n",
              "      <td>5</td>\n",
              "      <td>2</td>\n",
              "      <td>875</td>\n",
              "      <td>54.8</td>\n",
              "      <td>景美溪左岸自行車道</td>\n",
              "    </tr>\n",
              "    <tr>\n",
              "      <th>4</th>\n",
              "      <td>2012.833333</td>\n",
              "      <td>5.0</td>\n",
              "      <td>390.56840</td>\n",
              "      <td>5</td>\n",
              "      <td>1</td>\n",
              "      <td>491</td>\n",
              "      <td>43.1</td>\n",
              "      <td>北新路三段</td>\n",
              "    </tr>\n",
              "    <tr>\n",
              "      <th>5</th>\n",
              "      <td>2012.666667</td>\n",
              "      <td>7.1</td>\n",
              "      <td>2175.03000</td>\n",
              "      <td>3</td>\n",
              "      <td>3</td>\n",
              "      <td>828</td>\n",
              "      <td>32.1</td>\n",
              "      <td>安康路二段</td>\n",
              "    </tr>\n",
              "    <tr>\n",
              "      <th>6</th>\n",
              "      <td>2012.666667</td>\n",
              "      <td>34.5</td>\n",
              "      <td>623.47310</td>\n",
              "      <td>7</td>\n",
              "      <td>3</td>\n",
              "      <td>1115</td>\n",
              "      <td>40.3</td>\n",
              "      <td>二十張路129巷1弄</td>\n",
              "    </tr>\n",
              "    <tr>\n",
              "      <th>7</th>\n",
              "      <td>2013.416667</td>\n",
              "      <td>20.3</td>\n",
              "      <td>287.60250</td>\n",
              "      <td>6</td>\n",
              "      <td>3</td>\n",
              "      <td>1316</td>\n",
              "      <td>46.7</td>\n",
              "      <td>北新路三段</td>\n",
              "    </tr>\n",
              "    <tr>\n",
              "      <th>8</th>\n",
              "      <td>2013.500000</td>\n",
              "      <td>31.7</td>\n",
              "      <td>5512.03800</td>\n",
              "      <td>1</td>\n",
              "      <td>1</td>\n",
              "      <td>588</td>\n",
              "      <td>18.8</td>\n",
              "      <td>None</td>\n",
              "    </tr>\n",
              "    <tr>\n",
              "      <th>9</th>\n",
              "      <td>2013.416667</td>\n",
              "      <td>17.9</td>\n",
              "      <td>1783.18000</td>\n",
              "      <td>3</td>\n",
              "      <td>2</td>\n",
              "      <td>1075</td>\n",
              "      <td>22.1</td>\n",
              "      <td>安興路</td>\n",
              "    </tr>\n",
              "  </tbody>\n",
              "</table>\n",
              "</div>\n",
              "      <button class=\"colab-df-convert\" onclick=\"convertToInteractive('df-cfe44e92-3a1d-494d-958f-547582768b64')\"\n",
              "              title=\"Convert this dataframe to an interactive table.\"\n",
              "              style=\"display:none;\">\n",
              "        \n",
              "  <svg xmlns=\"http://www.w3.org/2000/svg\" height=\"24px\"viewBox=\"0 0 24 24\"\n",
              "       width=\"24px\">\n",
              "    <path d=\"M0 0h24v24H0V0z\" fill=\"none\"/>\n",
              "    <path d=\"M18.56 5.44l.94 2.06.94-2.06 2.06-.94-2.06-.94-.94-2.06-.94 2.06-2.06.94zm-11 1L8.5 8.5l.94-2.06 2.06-.94-2.06-.94L8.5 2.5l-.94 2.06-2.06.94zm10 10l.94 2.06.94-2.06 2.06-.94-2.06-.94-.94-2.06-.94 2.06-2.06.94z\"/><path d=\"M17.41 7.96l-1.37-1.37c-.4-.4-.92-.59-1.43-.59-.52 0-1.04.2-1.43.59L10.3 9.45l-7.72 7.72c-.78.78-.78 2.05 0 2.83L4 21.41c.39.39.9.59 1.41.59.51 0 1.02-.2 1.41-.59l7.78-7.78 2.81-2.81c.8-.78.8-2.07 0-2.86zM5.41 20L4 18.59l7.72-7.72 1.47 1.35L5.41 20z\"/>\n",
              "  </svg>\n",
              "      </button>\n",
              "      \n",
              "  <style>\n",
              "    .colab-df-container {\n",
              "      display:flex;\n",
              "      flex-wrap:wrap;\n",
              "      gap: 12px;\n",
              "    }\n",
              "\n",
              "    .colab-df-convert {\n",
              "      background-color: #E8F0FE;\n",
              "      border: none;\n",
              "      border-radius: 50%;\n",
              "      cursor: pointer;\n",
              "      display: none;\n",
              "      fill: #1967D2;\n",
              "      height: 32px;\n",
              "      padding: 0 0 0 0;\n",
              "      width: 32px;\n",
              "    }\n",
              "\n",
              "    .colab-df-convert:hover {\n",
              "      background-color: #E2EBFA;\n",
              "      box-shadow: 0px 1px 2px rgba(60, 64, 67, 0.3), 0px 1px 3px 1px rgba(60, 64, 67, 0.15);\n",
              "      fill: #174EA6;\n",
              "    }\n",
              "\n",
              "    [theme=dark] .colab-df-convert {\n",
              "      background-color: #3B4455;\n",
              "      fill: #D2E3FC;\n",
              "    }\n",
              "\n",
              "    [theme=dark] .colab-df-convert:hover {\n",
              "      background-color: #434B5C;\n",
              "      box-shadow: 0px 1px 3px 1px rgba(0, 0, 0, 0.15);\n",
              "      filter: drop-shadow(0px 1px 2px rgba(0, 0, 0, 0.3));\n",
              "      fill: #FFFFFF;\n",
              "    }\n",
              "  </style>\n",
              "\n",
              "      <script>\n",
              "        const buttonEl =\n",
              "          document.querySelector('#df-cfe44e92-3a1d-494d-958f-547582768b64 button.colab-df-convert');\n",
              "        buttonEl.style.display =\n",
              "          google.colab.kernel.accessAllowed ? 'block' : 'none';\n",
              "\n",
              "        async function convertToInteractive(key) {\n",
              "          const element = document.querySelector('#df-cfe44e92-3a1d-494d-958f-547582768b64');\n",
              "          const dataTable =\n",
              "            await google.colab.kernel.invokeFunction('convertToInteractive',\n",
              "                                                     [key], {});\n",
              "          if (!dataTable) return;\n",
              "\n",
              "          const docLinkHtml = 'Like what you see? Visit the ' +\n",
              "            '<a target=\"_blank\" href=https://colab.research.google.com/notebooks/data_table.ipynb>data table notebook</a>'\n",
              "            + ' to learn more about interactive tables.';\n",
              "          element.innerHTML = '';\n",
              "          dataTable['output_type'] = 'display_data';\n",
              "          await google.colab.output.renderOutput(dataTable, element);\n",
              "          const docLink = document.createElement('div');\n",
              "          docLink.innerHTML = docLinkHtml;\n",
              "          element.appendChild(docLink);\n",
              "        }\n",
              "      </script>\n",
              "    </div>\n",
              "  </div>\n",
              "  "
            ]
          },
          "metadata": {},
          "execution_count": 19
        }
      ]
    },
    {
      "cell_type": "code",
      "source": [
        "dataset.info()"
      ],
      "metadata": {
        "colab": {
          "base_uri": "https://localhost:8080/"
        },
        "id": "zM93N1Pu-pQY",
        "outputId": "1a5de9e1-54d2-47e5-cf3b-887d63193dc9"
      },
      "execution_count": 20,
      "outputs": [
        {
          "output_type": "stream",
          "name": "stdout",
          "text": [
            "<class 'pandas.core.frame.DataFrame'>\n",
            "RangeIndex: 414 entries, 0 to 413\n",
            "Data columns (total 8 columns):\n",
            " #   Column                                    Non-Null Count  Dtype  \n",
            "---  ------                                    --------------  -----  \n",
            " 0   Transaction date                          414 non-null    float64\n",
            " 1   House Age                                 414 non-null    float64\n",
            " 2   Distance from nearest Metro station (km)  414 non-null    float64\n",
            " 3   Number of convenience stores              414 non-null    int64  \n",
            " 4   Number of bedrooms                        414 non-null    int64  \n",
            " 5   House size (sqft)                         414 non-null    int64  \n",
            " 6   House price of unit area                  414 non-null    float64\n",
            " 7   road                                      401 non-null    object \n",
            "dtypes: float64(4), int64(3), object(1)\n",
            "memory usage: 26.0+ KB\n"
          ]
        }
      ]
    },
    {
      "cell_type": "code",
      "source": [],
      "metadata": {
        "id": "HjespD4nf3a1"
      },
      "execution_count": 20,
      "outputs": []
    },
    {
      "cell_type": "markdown",
      "source": [
        "#Filling the missing catagorical values using Logistic Regression"
      ],
      "metadata": {
        "id": "9wr1mk5CAK1p"
      }
    },
    {
      "cell_type": "code",
      "source": [
        "missing_idx = []\n",
        "\n",
        "for i in range(dataset.shape[0]):\n",
        "  if dataset['road'][i] is None:\n",
        "    missing_idx.append(i)\n",
        "\n",
        "#independent features\n",
        "missing_rd_X_train = np.array([ [dataset['Distance from nearest Metro station (km)'][i], dataset['House price of unit area'][i] ] for i in range (dataset.shape[0]) if i not in missing_idx]) \n",
        "#dependent feature   \n",
        "missing_rd_Y_train = np.array([dataset['road'][i] for i in range (dataset.shape[0]) if i not in missing_idx])\n",
        "\n",
        "missing_rd_X_test = np.array([[dataset['Distance from nearest Metro station (km)'][i], dataset['House price of unit area'][i]] for i in range (dataset.shape[0]) if i in missing_idx]) "
      ],
      "metadata": {
        "id": "vQeaDUD4Acr6"
      },
      "execution_count": 21,
      "outputs": []
    },
    {
      "cell_type": "code",
      "source": [
        "#model initialization\n",
        "\n",
        "m1 = SGDClassifier()\n",
        "\n",
        "#model training\n",
        "m1.fit(missing_rd_X_train, missing_rd_Y_train)\n",
        "\n",
        "missing_rd_Y_pred = m1.predict(missing_rd_X_test)"
      ],
      "metadata": {
        "id": "bGsF62T4DjEZ"
      },
      "execution_count": 22,
      "outputs": []
    },
    {
      "cell_type": "code",
      "source": [
        "missing_rd_Y_pred"
      ],
      "metadata": {
        "colab": {
          "base_uri": "https://localhost:8080/"
        },
        "id": "M8KeNOUJFsIh",
        "outputId": "d39f116e-d363-49c8-afe7-f10d0f4733c9"
      },
      "execution_count": 23,
      "outputs": [
        {
          "output_type": "execute_result",
          "data": {
            "text/plain": [
              "array(['安祥路', '安祥路', '安祥路', '安祥路', '安祥路', '安祥路', '安祥路', '安祥路', '安祥路',\n",
              "       '安祥路', '安祥路', '安祥路', '安祥路'], dtype='<U11')"
            ]
          },
          "metadata": {},
          "execution_count": 23
        }
      ]
    },
    {
      "cell_type": "code",
      "source": [
        "# add the model back to the data frame\n",
        "for n,i in enumerate(missing_idx):\n",
        "  dataset['road'][i] = missing_rd_Y_pred[n]"
      ],
      "metadata": {
        "colab": {
          "base_uri": "https://localhost:8080/"
        },
        "id": "4oTmYPRSFz2_",
        "outputId": "01e186d6-fab6-4230-f539-624b0fca9cac"
      },
      "execution_count": 24,
      "outputs": [
        {
          "output_type": "stream",
          "name": "stderr",
          "text": [
            "/usr/local/lib/python3.7/dist-packages/ipykernel_launcher.py:3: SettingWithCopyWarning: \n",
            "A value is trying to be set on a copy of a slice from a DataFrame\n",
            "\n",
            "See the caveats in the documentation: https://pandas.pydata.org/pandas-docs/stable/user_guide/indexing.html#returning-a-view-versus-a-copy\n",
            "  This is separate from the ipykernel package so we can avoid doing imports until\n"
          ]
        }
      ]
    },
    {
      "cell_type": "code",
      "source": [
        "dataset.info()"
      ],
      "metadata": {
        "colab": {
          "base_uri": "https://localhost:8080/"
        },
        "id": "dJjbgcjBG_yS",
        "outputId": "83222675-750f-4dce-ea97-d37e9475548c"
      },
      "execution_count": 25,
      "outputs": [
        {
          "output_type": "stream",
          "name": "stdout",
          "text": [
            "<class 'pandas.core.frame.DataFrame'>\n",
            "RangeIndex: 414 entries, 0 to 413\n",
            "Data columns (total 8 columns):\n",
            " #   Column                                    Non-Null Count  Dtype  \n",
            "---  ------                                    --------------  -----  \n",
            " 0   Transaction date                          414 non-null    float64\n",
            " 1   House Age                                 414 non-null    float64\n",
            " 2   Distance from nearest Metro station (km)  414 non-null    float64\n",
            " 3   Number of convenience stores              414 non-null    int64  \n",
            " 4   Number of bedrooms                        414 non-null    int64  \n",
            " 5   House size (sqft)                         414 non-null    int64  \n",
            " 6   House price of unit area                  414 non-null    float64\n",
            " 7   road                                      414 non-null    object \n",
            "dtypes: float64(4), int64(3), object(1)\n",
            "memory usage: 26.0+ KB\n"
          ]
        }
      ]
    },
    {
      "cell_type": "code",
      "source": [
        "le = LabelEncoder()\n",
        "dataset['road'] = le.fit_transform(dataset['road'])"
      ],
      "metadata": {
        "id": "uYy3YTrpHFnz"
      },
      "execution_count": 26,
      "outputs": []
    },
    {
      "cell_type": "code",
      "source": [
        "dataset.head(10)"
      ],
      "metadata": {
        "colab": {
          "base_uri": "https://localhost:8080/",
          "height": 424
        },
        "id": "fAhKfnINH4-B",
        "outputId": "9f59cedd-eeda-4033-d3a4-e5f6bf967601"
      },
      "execution_count": 27,
      "outputs": [
        {
          "output_type": "execute_result",
          "data": {
            "text/plain": [
              "   Transaction date  House Age  Distance from nearest Metro station (km)  \\\n",
              "0       2012.916667       32.0                                  84.87882   \n",
              "1       2012.916667       19.5                                 306.59470   \n",
              "2       2013.583333       13.3                                 561.98450   \n",
              "3       2013.500000       13.3                                 561.98450   \n",
              "4       2012.833333        5.0                                 390.56840   \n",
              "5       2012.666667        7.1                                2175.03000   \n",
              "6       2012.666667       34.5                                 623.47310   \n",
              "7       2013.416667       20.3                                 287.60250   \n",
              "8       2013.500000       31.7                                5512.03800   \n",
              "9       2013.416667       17.9                                1783.18000   \n",
              "\n",
              "   Number of convenience stores  Number of bedrooms  House size (sqft)  \\\n",
              "0                            10                   1                575   \n",
              "1                             9                   2               1240   \n",
              "2                             5                   3               1060   \n",
              "3                             5                   2                875   \n",
              "4                             5                   1                491   \n",
              "5                             3                   3                828   \n",
              "6                             7                   3               1115   \n",
              "7                             6                   3               1316   \n",
              "8                             1                   1                588   \n",
              "9                             3                   2               1075   \n",
              "\n",
              "   House price of unit area  road  \n",
              "0                      37.9   112  \n",
              "1                      42.2    63  \n",
              "2                      47.3   108  \n",
              "3                      54.8   108  \n",
              "4                      43.1    51  \n",
              "5                      32.1    70  \n",
              "6                      40.3    32  \n",
              "7                      46.7    51  \n",
              "8                      18.8    81  \n",
              "9                      22.1    83  "
            ],
            "text/html": [
              "\n",
              "  <div id=\"df-bb33c5e5-9572-41d7-857a-d41423c19022\">\n",
              "    <div class=\"colab-df-container\">\n",
              "      <div>\n",
              "<style scoped>\n",
              "    .dataframe tbody tr th:only-of-type {\n",
              "        vertical-align: middle;\n",
              "    }\n",
              "\n",
              "    .dataframe tbody tr th {\n",
              "        vertical-align: top;\n",
              "    }\n",
              "\n",
              "    .dataframe thead th {\n",
              "        text-align: right;\n",
              "    }\n",
              "</style>\n",
              "<table border=\"1\" class=\"dataframe\">\n",
              "  <thead>\n",
              "    <tr style=\"text-align: right;\">\n",
              "      <th></th>\n",
              "      <th>Transaction date</th>\n",
              "      <th>House Age</th>\n",
              "      <th>Distance from nearest Metro station (km)</th>\n",
              "      <th>Number of convenience stores</th>\n",
              "      <th>Number of bedrooms</th>\n",
              "      <th>House size (sqft)</th>\n",
              "      <th>House price of unit area</th>\n",
              "      <th>road</th>\n",
              "    </tr>\n",
              "  </thead>\n",
              "  <tbody>\n",
              "    <tr>\n",
              "      <th>0</th>\n",
              "      <td>2012.916667</td>\n",
              "      <td>32.0</td>\n",
              "      <td>84.87882</td>\n",
              "      <td>10</td>\n",
              "      <td>1</td>\n",
              "      <td>575</td>\n",
              "      <td>37.9</td>\n",
              "      <td>112</td>\n",
              "    </tr>\n",
              "    <tr>\n",
              "      <th>1</th>\n",
              "      <td>2012.916667</td>\n",
              "      <td>19.5</td>\n",
              "      <td>306.59470</td>\n",
              "      <td>9</td>\n",
              "      <td>2</td>\n",
              "      <td>1240</td>\n",
              "      <td>42.2</td>\n",
              "      <td>63</td>\n",
              "    </tr>\n",
              "    <tr>\n",
              "      <th>2</th>\n",
              "      <td>2013.583333</td>\n",
              "      <td>13.3</td>\n",
              "      <td>561.98450</td>\n",
              "      <td>5</td>\n",
              "      <td>3</td>\n",
              "      <td>1060</td>\n",
              "      <td>47.3</td>\n",
              "      <td>108</td>\n",
              "    </tr>\n",
              "    <tr>\n",
              "      <th>3</th>\n",
              "      <td>2013.500000</td>\n",
              "      <td>13.3</td>\n",
              "      <td>561.98450</td>\n",
              "      <td>5</td>\n",
              "      <td>2</td>\n",
              "      <td>875</td>\n",
              "      <td>54.8</td>\n",
              "      <td>108</td>\n",
              "    </tr>\n",
              "    <tr>\n",
              "      <th>4</th>\n",
              "      <td>2012.833333</td>\n",
              "      <td>5.0</td>\n",
              "      <td>390.56840</td>\n",
              "      <td>5</td>\n",
              "      <td>1</td>\n",
              "      <td>491</td>\n",
              "      <td>43.1</td>\n",
              "      <td>51</td>\n",
              "    </tr>\n",
              "    <tr>\n",
              "      <th>5</th>\n",
              "      <td>2012.666667</td>\n",
              "      <td>7.1</td>\n",
              "      <td>2175.03000</td>\n",
              "      <td>3</td>\n",
              "      <td>3</td>\n",
              "      <td>828</td>\n",
              "      <td>32.1</td>\n",
              "      <td>70</td>\n",
              "    </tr>\n",
              "    <tr>\n",
              "      <th>6</th>\n",
              "      <td>2012.666667</td>\n",
              "      <td>34.5</td>\n",
              "      <td>623.47310</td>\n",
              "      <td>7</td>\n",
              "      <td>3</td>\n",
              "      <td>1115</td>\n",
              "      <td>40.3</td>\n",
              "      <td>32</td>\n",
              "    </tr>\n",
              "    <tr>\n",
              "      <th>7</th>\n",
              "      <td>2013.416667</td>\n",
              "      <td>20.3</td>\n",
              "      <td>287.60250</td>\n",
              "      <td>6</td>\n",
              "      <td>3</td>\n",
              "      <td>1316</td>\n",
              "      <td>46.7</td>\n",
              "      <td>51</td>\n",
              "    </tr>\n",
              "    <tr>\n",
              "      <th>8</th>\n",
              "      <td>2013.500000</td>\n",
              "      <td>31.7</td>\n",
              "      <td>5512.03800</td>\n",
              "      <td>1</td>\n",
              "      <td>1</td>\n",
              "      <td>588</td>\n",
              "      <td>18.8</td>\n",
              "      <td>81</td>\n",
              "    </tr>\n",
              "    <tr>\n",
              "      <th>9</th>\n",
              "      <td>2013.416667</td>\n",
              "      <td>17.9</td>\n",
              "      <td>1783.18000</td>\n",
              "      <td>3</td>\n",
              "      <td>2</td>\n",
              "      <td>1075</td>\n",
              "      <td>22.1</td>\n",
              "      <td>83</td>\n",
              "    </tr>\n",
              "  </tbody>\n",
              "</table>\n",
              "</div>\n",
              "      <button class=\"colab-df-convert\" onclick=\"convertToInteractive('df-bb33c5e5-9572-41d7-857a-d41423c19022')\"\n",
              "              title=\"Convert this dataframe to an interactive table.\"\n",
              "              style=\"display:none;\">\n",
              "        \n",
              "  <svg xmlns=\"http://www.w3.org/2000/svg\" height=\"24px\"viewBox=\"0 0 24 24\"\n",
              "       width=\"24px\">\n",
              "    <path d=\"M0 0h24v24H0V0z\" fill=\"none\"/>\n",
              "    <path d=\"M18.56 5.44l.94 2.06.94-2.06 2.06-.94-2.06-.94-.94-2.06-.94 2.06-2.06.94zm-11 1L8.5 8.5l.94-2.06 2.06-.94-2.06-.94L8.5 2.5l-.94 2.06-2.06.94zm10 10l.94 2.06.94-2.06 2.06-.94-2.06-.94-.94-2.06-.94 2.06-2.06.94z\"/><path d=\"M17.41 7.96l-1.37-1.37c-.4-.4-.92-.59-1.43-.59-.52 0-1.04.2-1.43.59L10.3 9.45l-7.72 7.72c-.78.78-.78 2.05 0 2.83L4 21.41c.39.39.9.59 1.41.59.51 0 1.02-.2 1.41-.59l7.78-7.78 2.81-2.81c.8-.78.8-2.07 0-2.86zM5.41 20L4 18.59l7.72-7.72 1.47 1.35L5.41 20z\"/>\n",
              "  </svg>\n",
              "      </button>\n",
              "      \n",
              "  <style>\n",
              "    .colab-df-container {\n",
              "      display:flex;\n",
              "      flex-wrap:wrap;\n",
              "      gap: 12px;\n",
              "    }\n",
              "\n",
              "    .colab-df-convert {\n",
              "      background-color: #E8F0FE;\n",
              "      border: none;\n",
              "      border-radius: 50%;\n",
              "      cursor: pointer;\n",
              "      display: none;\n",
              "      fill: #1967D2;\n",
              "      height: 32px;\n",
              "      padding: 0 0 0 0;\n",
              "      width: 32px;\n",
              "    }\n",
              "\n",
              "    .colab-df-convert:hover {\n",
              "      background-color: #E2EBFA;\n",
              "      box-shadow: 0px 1px 2px rgba(60, 64, 67, 0.3), 0px 1px 3px 1px rgba(60, 64, 67, 0.15);\n",
              "      fill: #174EA6;\n",
              "    }\n",
              "\n",
              "    [theme=dark] .colab-df-convert {\n",
              "      background-color: #3B4455;\n",
              "      fill: #D2E3FC;\n",
              "    }\n",
              "\n",
              "    [theme=dark] .colab-df-convert:hover {\n",
              "      background-color: #434B5C;\n",
              "      box-shadow: 0px 1px 3px 1px rgba(0, 0, 0, 0.15);\n",
              "      filter: drop-shadow(0px 1px 2px rgba(0, 0, 0, 0.3));\n",
              "      fill: #FFFFFF;\n",
              "    }\n",
              "  </style>\n",
              "\n",
              "      <script>\n",
              "        const buttonEl =\n",
              "          document.querySelector('#df-bb33c5e5-9572-41d7-857a-d41423c19022 button.colab-df-convert');\n",
              "        buttonEl.style.display =\n",
              "          google.colab.kernel.accessAllowed ? 'block' : 'none';\n",
              "\n",
              "        async function convertToInteractive(key) {\n",
              "          const element = document.querySelector('#df-bb33c5e5-9572-41d7-857a-d41423c19022');\n",
              "          const dataTable =\n",
              "            await google.colab.kernel.invokeFunction('convertToInteractive',\n",
              "                                                     [key], {});\n",
              "          if (!dataTable) return;\n",
              "\n",
              "          const docLinkHtml = 'Like what you see? Visit the ' +\n",
              "            '<a target=\"_blank\" href=https://colab.research.google.com/notebooks/data_table.ipynb>data table notebook</a>'\n",
              "            + ' to learn more about interactive tables.';\n",
              "          element.innerHTML = '';\n",
              "          dataTable['output_type'] = 'display_data';\n",
              "          await google.colab.output.renderOutput(dataTable, element);\n",
              "          const docLink = document.createElement('div');\n",
              "          docLink.innerHTML = docLinkHtml;\n",
              "          element.appendChild(docLink);\n",
              "        }\n",
              "      </script>\n",
              "    </div>\n",
              "  </div>\n",
              "  "
            ]
          },
          "metadata": {},
          "execution_count": 27
        }
      ]
    },
    {
      "cell_type": "markdown",
      "source": [
        "# Understanding which model to use"
      ],
      "metadata": {
        "id": "YyeAgQE0IOyh"
      }
    },
    {
      "cell_type": "code",
      "source": [
        "X = dataset.drop(['House price of unit area'], axis=1)\n",
        "Y = dataset['House price of unit area']\n",
        " \n",
        "# Split the training set into\n",
        "# training and validation set\n",
        "X_train, X_valid, Y_train, Y_valid = train_test_split(\n",
        "    X, Y, test_size=0.2, random_state=0)"
      ],
      "metadata": {
        "id": "NL-f5sHkiFaH"
      },
      "execution_count": 30,
      "outputs": []
    },
    {
      "cell_type": "code",
      "source": [
        "# SVM-Support Vector Machine\n",
        "model_SVR = svm.SVR()\n",
        "model_SVR.fit(X_train,Y_train)\n",
        "Y_pred = model_SVR.predict(X_valid)\n",
        " \n",
        "print(mean_absolute_percentage_error(Y_valid, Y_pred))\n",
        "print(r2_score(Y_valid, Y_pred))"
      ],
      "metadata": {
        "colab": {
          "base_uri": "https://localhost:8080/"
        },
        "id": "UrysZv9yiTbv",
        "outputId": "6a7dd53b-fd37-4dad-bdcb-c256dc9b1d2d"
      },
      "execution_count": 53,
      "outputs": [
        {
          "output_type": "stream",
          "name": "stdout",
          "text": [
            "0.20668450202997196\n",
            "0.3958099496086993\n"
          ]
        }
      ]
    },
    {
      "cell_type": "code",
      "source": [
        "#Random Forest Regression\n",
        "model_RFR = RandomForestRegressor(n_estimators=10, max_depth=8, random_state=4)\n",
        "model_RFR.fit(X_train, Y_train)\n",
        "Y_pred = model_RFR.predict(X_valid)\n",
        "\n",
        "mean_absolute_percentage_error(Y_valid, Y_pred)\n",
        "model_RFR = RandomForestRegressor(n_estimators=10)\n",
        "model_RFR.fit(X_train, Y_train)\n",
        "Y_pred = model_RFR.predict(X_valid)\n",
        "\n",
        "#model accuracy\n",
        "print(mean_absolute_percentage_error(Y_valid, Y_pred))\n",
        "print(r2_score(Y_valid, Y_pred))"
      ],
      "metadata": {
        "colab": {
          "base_uri": "https://localhost:8080/"
        },
        "id": "1tL14UcUiZKZ",
        "outputId": "a718a693-204d-4361-d00e-9c1cc049f871"
      },
      "execution_count": 52,
      "outputs": [
        {
          "output_type": "stream",
          "name": "stdout",
          "text": [
            "0.13461381381376805\n",
            "0.7183232644905232\n"
          ]
        }
      ]
    },
    {
      "cell_type": "code",
      "source": [
        "#Linear Regression\n",
        "model_LR = LinearRegression()\n",
        "model_LR.fit(X_train, Y_train)\n",
        "Y_pred = model_LR.predict(X_valid)\n",
        "\n",
        "print(mean_absolute_percentage_error(Y_valid, Y_pred))\n",
        "print(r2_score(Y_valid, Y_pred))"
      ],
      "metadata": {
        "colab": {
          "base_uri": "https://localhost:8080/"
        },
        "id": "v3ZmkqSAi1dI",
        "outputId": "dffc4e2f-bffa-4712-be1e-fd604254169f"
      },
      "execution_count": 54,
      "outputs": [
        {
          "output_type": "stream",
          "name": "stdout",
          "text": [
            "0.19584425335636133\n",
            "0.5433247084613042\n"
          ]
        }
      ]
    }
  ],
  "metadata": {
    "colab": {
      "provenance": [],
      "collapsed_sections": [
        "ysGxRQ7sktJ7"
      ],
      "include_colab_link": true
    },
    "kernelspec": {
      "display_name": "Python 3",
      "name": "python3"
    },
    "language_info": {
      "name": "python"
    },
    "widgets": {
      "application/vnd.jupyter.widget-state+json": {
        "8c9b103283af416586c204538db90310": {
          "model_module": "@jupyter-widgets/controls",
          "model_name": "HBoxModel",
          "model_module_version": "1.5.0",
          "state": {
            "_dom_classes": [],
            "_model_module": "@jupyter-widgets/controls",
            "_model_module_version": "1.5.0",
            "_model_name": "HBoxModel",
            "_view_count": null,
            "_view_module": "@jupyter-widgets/controls",
            "_view_module_version": "1.5.0",
            "_view_name": "HBoxView",
            "box_style": "",
            "children": [
              "IPY_MODEL_3eafcdc73c17442cb0ce6519e2aaa625",
              "IPY_MODEL_5a9d0d5b20254084914c053f3e0d53c7",
              "IPY_MODEL_57fc51e651294be1ae1dbe1dd99d65bb"
            ],
            "layout": "IPY_MODEL_527aa39f918c459fa022b9e4bb657534"
          }
        },
        "3eafcdc73c17442cb0ce6519e2aaa625": {
          "model_module": "@jupyter-widgets/controls",
          "model_name": "HTMLModel",
          "model_module_version": "1.5.0",
          "state": {
            "_dom_classes": [],
            "_model_module": "@jupyter-widgets/controls",
            "_model_module_version": "1.5.0",
            "_model_name": "HTMLModel",
            "_view_count": null,
            "_view_module": "@jupyter-widgets/controls",
            "_view_module_version": "1.5.0",
            "_view_name": "HTMLView",
            "description": "",
            "description_tooltip": null,
            "layout": "IPY_MODEL_beb4539a428c44a39a1769d8c290c1b3",
            "placeholder": "​",
            "style": "IPY_MODEL_66dc619236204540851b63771bf41193",
            "value": "Done! Use &#x27;show&#x27; commands to display/save.   "
          }
        },
        "5a9d0d5b20254084914c053f3e0d53c7": {
          "model_module": "@jupyter-widgets/controls",
          "model_name": "FloatProgressModel",
          "model_module_version": "1.5.0",
          "state": {
            "_dom_classes": [],
            "_model_module": "@jupyter-widgets/controls",
            "_model_module_version": "1.5.0",
            "_model_name": "FloatProgressModel",
            "_view_count": null,
            "_view_module": "@jupyter-widgets/controls",
            "_view_module_version": "1.5.0",
            "_view_name": "ProgressView",
            "bar_style": "success",
            "description": "",
            "description_tooltip": null,
            "layout": "IPY_MODEL_826ca2958ae245d9aa6111d05a288962",
            "max": 1,
            "min": 0,
            "orientation": "horizontal",
            "style": "IPY_MODEL_a55a59bc7c5d4ee08e69245c734e7519",
            "value": 1
          }
        },
        "57fc51e651294be1ae1dbe1dd99d65bb": {
          "model_module": "@jupyter-widgets/controls",
          "model_name": "HTMLModel",
          "model_module_version": "1.5.0",
          "state": {
            "_dom_classes": [],
            "_model_module": "@jupyter-widgets/controls",
            "_model_module_version": "1.5.0",
            "_model_name": "HTMLModel",
            "_view_count": null,
            "_view_module": "@jupyter-widgets/controls",
            "_view_module_version": "1.5.0",
            "_view_name": "HTMLView",
            "description": "",
            "description_tooltip": null,
            "layout": "IPY_MODEL_4977c0d62ced4719aa040925d5552949",
            "placeholder": "​",
            "style": "IPY_MODEL_0c7de71264de4eb391672b81a72588fa",
            "value": " [100%]   00:01 -&gt; (00:00 left)"
          }
        },
        "527aa39f918c459fa022b9e4bb657534": {
          "model_module": "@jupyter-widgets/base",
          "model_name": "LayoutModel",
          "model_module_version": "1.2.0",
          "state": {
            "_model_module": "@jupyter-widgets/base",
            "_model_module_version": "1.2.0",
            "_model_name": "LayoutModel",
            "_view_count": null,
            "_view_module": "@jupyter-widgets/base",
            "_view_module_version": "1.2.0",
            "_view_name": "LayoutView",
            "align_content": null,
            "align_items": null,
            "align_self": null,
            "border": null,
            "bottom": null,
            "display": "inline-flex",
            "flex": null,
            "flex_flow": "row wrap",
            "grid_area": null,
            "grid_auto_columns": null,
            "grid_auto_flow": null,
            "grid_auto_rows": null,
            "grid_column": null,
            "grid_gap": null,
            "grid_row": null,
            "grid_template_areas": null,
            "grid_template_columns": null,
            "grid_template_rows": null,
            "height": null,
            "justify_content": null,
            "justify_items": null,
            "left": null,
            "margin": null,
            "max_height": null,
            "max_width": null,
            "min_height": null,
            "min_width": null,
            "object_fit": null,
            "object_position": null,
            "order": null,
            "overflow": null,
            "overflow_x": null,
            "overflow_y": null,
            "padding": null,
            "right": null,
            "top": null,
            "visibility": null,
            "width": "100%"
          }
        },
        "beb4539a428c44a39a1769d8c290c1b3": {
          "model_module": "@jupyter-widgets/base",
          "model_name": "LayoutModel",
          "model_module_version": "1.2.0",
          "state": {
            "_model_module": "@jupyter-widgets/base",
            "_model_module_version": "1.2.0",
            "_model_name": "LayoutModel",
            "_view_count": null,
            "_view_module": "@jupyter-widgets/base",
            "_view_module_version": "1.2.0",
            "_view_name": "LayoutView",
            "align_content": null,
            "align_items": null,
            "align_self": null,
            "border": null,
            "bottom": null,
            "display": null,
            "flex": null,
            "flex_flow": null,
            "grid_area": null,
            "grid_auto_columns": null,
            "grid_auto_flow": null,
            "grid_auto_rows": null,
            "grid_column": null,
            "grid_gap": null,
            "grid_row": null,
            "grid_template_areas": null,
            "grid_template_columns": null,
            "grid_template_rows": null,
            "height": null,
            "justify_content": null,
            "justify_items": null,
            "left": null,
            "margin": null,
            "max_height": null,
            "max_width": null,
            "min_height": null,
            "min_width": null,
            "object_fit": null,
            "object_position": null,
            "order": null,
            "overflow": null,
            "overflow_x": null,
            "overflow_y": null,
            "padding": null,
            "right": null,
            "top": null,
            "visibility": null,
            "width": null
          }
        },
        "66dc619236204540851b63771bf41193": {
          "model_module": "@jupyter-widgets/controls",
          "model_name": "DescriptionStyleModel",
          "model_module_version": "1.5.0",
          "state": {
            "_model_module": "@jupyter-widgets/controls",
            "_model_module_version": "1.5.0",
            "_model_name": "DescriptionStyleModel",
            "_view_count": null,
            "_view_module": "@jupyter-widgets/base",
            "_view_module_version": "1.2.0",
            "_view_name": "StyleView",
            "description_width": ""
          }
        },
        "826ca2958ae245d9aa6111d05a288962": {
          "model_module": "@jupyter-widgets/base",
          "model_name": "LayoutModel",
          "model_module_version": "1.2.0",
          "state": {
            "_model_module": "@jupyter-widgets/base",
            "_model_module_version": "1.2.0",
            "_model_name": "LayoutModel",
            "_view_count": null,
            "_view_module": "@jupyter-widgets/base",
            "_view_module_version": "1.2.0",
            "_view_name": "LayoutView",
            "align_content": null,
            "align_items": null,
            "align_self": null,
            "border": null,
            "bottom": null,
            "display": null,
            "flex": "2",
            "flex_flow": null,
            "grid_area": null,
            "grid_auto_columns": null,
            "grid_auto_flow": null,
            "grid_auto_rows": null,
            "grid_column": null,
            "grid_gap": null,
            "grid_row": null,
            "grid_template_areas": null,
            "grid_template_columns": null,
            "grid_template_rows": null,
            "height": null,
            "justify_content": null,
            "justify_items": null,
            "left": null,
            "margin": null,
            "max_height": null,
            "max_width": null,
            "min_height": null,
            "min_width": null,
            "object_fit": null,
            "object_position": null,
            "order": null,
            "overflow": null,
            "overflow_x": null,
            "overflow_y": null,
            "padding": null,
            "right": null,
            "top": null,
            "visibility": null,
            "width": null
          }
        },
        "a55a59bc7c5d4ee08e69245c734e7519": {
          "model_module": "@jupyter-widgets/controls",
          "model_name": "ProgressStyleModel",
          "model_module_version": "1.5.0",
          "state": {
            "_model_module": "@jupyter-widgets/controls",
            "_model_module_version": "1.5.0",
            "_model_name": "ProgressStyleModel",
            "_view_count": null,
            "_view_module": "@jupyter-widgets/base",
            "_view_module_version": "1.2.0",
            "_view_name": "StyleView",
            "bar_color": null,
            "description_width": ""
          }
        },
        "4977c0d62ced4719aa040925d5552949": {
          "model_module": "@jupyter-widgets/base",
          "model_name": "LayoutModel",
          "model_module_version": "1.2.0",
          "state": {
            "_model_module": "@jupyter-widgets/base",
            "_model_module_version": "1.2.0",
            "_model_name": "LayoutModel",
            "_view_count": null,
            "_view_module": "@jupyter-widgets/base",
            "_view_module_version": "1.2.0",
            "_view_name": "LayoutView",
            "align_content": null,
            "align_items": null,
            "align_self": null,
            "border": null,
            "bottom": null,
            "display": null,
            "flex": null,
            "flex_flow": null,
            "grid_area": null,
            "grid_auto_columns": null,
            "grid_auto_flow": null,
            "grid_auto_rows": null,
            "grid_column": null,
            "grid_gap": null,
            "grid_row": null,
            "grid_template_areas": null,
            "grid_template_columns": null,
            "grid_template_rows": null,
            "height": null,
            "justify_content": null,
            "justify_items": null,
            "left": null,
            "margin": null,
            "max_height": null,
            "max_width": null,
            "min_height": null,
            "min_width": null,
            "object_fit": null,
            "object_position": null,
            "order": null,
            "overflow": null,
            "overflow_x": null,
            "overflow_y": null,
            "padding": null,
            "right": null,
            "top": null,
            "visibility": null,
            "width": null
          }
        },
        "0c7de71264de4eb391672b81a72588fa": {
          "model_module": "@jupyter-widgets/controls",
          "model_name": "DescriptionStyleModel",
          "model_module_version": "1.5.0",
          "state": {
            "_model_module": "@jupyter-widgets/controls",
            "_model_module_version": "1.5.0",
            "_model_name": "DescriptionStyleModel",
            "_view_count": null,
            "_view_module": "@jupyter-widgets/base",
            "_view_module_version": "1.2.0",
            "_view_name": "StyleView",
            "description_width": ""
          }
        }
      }
    }
  },
  "nbformat": 4,
  "nbformat_minor": 0
}